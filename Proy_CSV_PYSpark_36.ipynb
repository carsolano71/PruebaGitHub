{
    "nbformat_minor": 1, 
    "cells": [
        {
            "source": "# @hidden_cell\n# The project token is an authorization token that is used to access project resources like data sources, connections, and used by platform APIs.\nfrom project_lib import Project\nproject = Project(spark.sparkContext, '83cc20da-526c-4c79-ab86-ec48193967b9', 'p-c6eed48e07d00bd99e3bc747d55cb0bb1589d351')\npc = project.project_context\n", 
            "cell_type": "code", 
            "execution_count": 2, 
            "outputs": [], 
            "metadata": {}
        }, 
        {
            "source": "# Get file url using file name\nurl=project.get_file_url('titanic32.csv')\n# get data into spark dataframe\nspark = SparkSession.builder.getOrCreate()\ndf = spark.read.format('org.apache.spark.sql.execution.datasources.csv.CSVFileFormat')\\\n  .option('header', 'true')\\\n  .load(url)\ndf.show(5)", 
            "cell_type": "code", 
            "execution_count": 3, 
            "outputs": [
                {
                    "output_type": "stream", 
                    "name": "stdout", 
                    "text": "+--------+------+-------------+------+---+--------+-------+-------+\n|Survived|Pclass|         Name|   Sex|Age|Siblings|Parents|   Fare|\n+--------+------+-------------+------+---+--------+-------+-------+\n|       0|     3|Carlos Solano|  male| 47|       1|      0|   7.25|\n|       1|     1|   Erika Paez|female| 44|       1|      0|71.2833|\n+--------+------+-------------+------+---+--------+-------+-------+\n\n"
                }
            ], 
            "metadata": {}
        }
    ], 
    "nbformat": 4, 
    "metadata": {
        "kernelspec": {
            "display_name": "Python 3.6 with Spark", 
            "name": "python36", 
            "language": "python3"
        }, 
        "language_info": {
            "mimetype": "text/x-python", 
            "nbconvert_exporter": "python", 
            "version": "3.6.8", 
            "name": "python", 
            "pygments_lexer": "ipython3", 
            "file_extension": ".py", 
            "codemirror_mode": {
                "version": 3, 
                "name": "ipython"
            }
        }
    }
}