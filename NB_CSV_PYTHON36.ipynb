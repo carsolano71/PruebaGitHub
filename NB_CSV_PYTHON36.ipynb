{
    "nbformat_minor": 1, 
    "cells": [
        {
            "source": "# @hidden_cell\n# The project token is an authorization token that is used to access project resources like data sources, connections, and used by platform APIs.\nfrom project_lib import Project\nproject = Project(project_id='83cc20da-526c-4c79-ab86-ec48193967b9', project_access_token='p-c6eed48e07d00bd99e3bc747d55cb0bb1589d351')\npc = project.project_context\n", 
            "cell_type": "code", 
            "execution_count": 4, 
            "outputs": [], 
            "metadata": {}
        }, 
        {
            "source": "print (\"Project Name: {0}\".format(project.get_name()))\nprint (\"Project Description: {0}\".format(project.get_description()))\nprint (\"Project Bucket Name: {0}\".format(project.get_project_bucket_name()))\nprint (\"Project Assets (Connections): {0}\".format(project.get_assets(asset_type='connection')))\n\nmy_file = project.get_file(\"titanic32.csv\")\nimport pandas as pd\n#Getting csv file and loading as pandas datafarme\ndata = pd.read_csv(my_file, nrows=10).head(1)\n\n\n\n#data.head()\n# Save dataframe as csv file to storage\nproject.save_data(data=data.to_csv(index=False),file_name='CASH1.csv',overwrite=True)\n", 
            "cell_type": "code", 
            "execution_count": null, 
            "outputs": [], 
            "metadata": {}
        }
    ], 
    "nbformat": 4, 
    "metadata": {
        "kernelspec": {
            "display_name": "Python 3.6", 
            "name": "python3", 
            "language": "python"
        }, 
        "language_info": {
            "mimetype": "text/x-python", 
            "nbconvert_exporter": "python", 
            "version": "3.6.8", 
            "name": "python", 
            "pygments_lexer": "ipython3", 
            "file_extension": ".py", 
            "codemirror_mode": {
                "version": 3, 
                "name": "ipython"
            }
        }
    }
}